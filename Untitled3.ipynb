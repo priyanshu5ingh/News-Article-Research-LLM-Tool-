{
 "cells": [
  {
   "cell_type": "code",
   "execution_count": 41,
   "id": "a569b262-7ee7-4894-84df-a4597d187e4b",
   "metadata": {},
   "outputs": [],
   "source": [
    "import os\n",
    "import streamlit as st\n",
    "import pickle\n",
    "import time\n",
    "import langchain\n",
    "from langchain.chains import RetrievalQAWithSourcesChain\n",
    "from langchain.chains.qa_with_sources.loading import load_qa_with_sources_chain\n",
    "from langchain.text_splitter import RecursiveCharacterTextSplitter\n",
    "from mistralai.client import MistralClient\n",
    "from langchain.vectorstores import FAISS\n",
    "from langchain.embeddings import HuggingFaceEmbeddings\n",
    "from langchain.document_loaders import UnstructuredURLLoader\n",
    "from langchain_mistralai.chat_models import ChatMistralAI\n",
    "from langchain.chains import RetrievalQA\n",
    "\n",
    "\n"
   ]
  },
  {
   "cell_type": "code",
   "execution_count": 42,
   "id": "6dcd9d5b-ff12-42d3-843b-09b6ebd0eba9",
   "metadata": {},
   "outputs": [
    {
     "name": "stdout",
     "output_type": "stream",
     "text": [
      "content=\"Hello! I can help you with a wide range of tasks such as answering questions, providing information, setting reminders, helping with research, and more. If you need help with anything specific, feel free to ask. I'm here to assist you.\" additional_kwargs={} response_metadata={'token_usage': {'prompt_tokens': 11, 'total_tokens': 64, 'completion_tokens': 53}, 'model_name': 'mistral-tiny', 'model': 'mistral-tiny', 'finish_reason': 'stop'} id='run-5f0295ba-863a-4b6c-b819-155e7cdf246b-0' usage_metadata={'input_tokens': 11, 'output_tokens': 53, 'total_tokens': 64}\n"
     ]
    }
   ],
   "source": [
    "import os\n",
    "import streamlit as st\n",
    "\n",
    "# Set your API key\n",
    "os.environ[\"MISTRAL_API_KEY\"] = \"nD9fl2xPNjPDfnNorzXkLlp5ahUEmidP\"\n",
    "\n",
    "# Initialize the Mistral model\n",
    "llm = ChatMistralAI(model=\"mistral-tiny\", temperature=0.7)\n",
    "\n",
    "# Example usage\n",
    "response = llm.invoke(\"Hello, how can you assist me?\")\n",
    "print(response)\n"
   ]
  },
  {
   "cell_type": "code",
   "execution_count": 43,
   "id": "5f8bf976-2fd8-4396-bbb2-1cf807a26730",
   "metadata": {},
   "outputs": [
    {
     "name": "stdout",
     "output_type": "stream",
     "text": [
      "2\n"
     ]
    }
   ],
   "source": [
    "from langchain_mistralai import ChatMistralAI\n",
    "from langchain.text_splitter import CharacterTextSplitter\n",
    "from langchain.document_loaders import UnstructuredURLLoader\n",
    "\n",
    "# Define the LLM\n",
    "llm = ChatMistralAI(model=\"mistral-medium\", temperature=0.7)\n",
    "\n",
    "# Load URLs\n",
    "loaders = UnstructuredURLLoader(urls=[\n",
    "    \"https://www.timesnownews.com/auto/electric-vehicles/teslas-european-ev-sales-plummet-lagging-behind-rivals-article-119647784\",\n",
    "    \"https://www.financialexpress.com/business/investing-abroad-tesla-stock-in-freefall-should-you-hold-your-shares-or-cut-losses-now-3790077/\"\n",
    "])\n",
    "\n",
    "data = loaders.load()\n",
    "print(len(data))  # Check if data loads correctly\n"
   ]
  },
  {
   "cell_type": "code",
   "execution_count": 44,
   "id": "55db613f-d2db-4b7f-814b-1b862eeeda79",
   "metadata": {},
   "outputs": [
    {
     "data": {
      "text/plain": [
       "10"
      ]
     },
     "execution_count": 44,
     "metadata": {},
     "output_type": "execute_result"
    }
   ],
   "source": [
    "text_splitter = RecursiveCharacterTextSplitter(\n",
    "    chunk_size = 1000,\n",
    "    chunk_overlap = 200\n",
    "    )\n",
    "docs = text_splitter.split_documents(data)\n",
    "len(docs)"
   ]
  },
  {
   "cell_type": "code",
   "execution_count": 45,
   "id": "e44a90d4-4da5-4952-b9c2-f28ad628e813",
   "metadata": {},
   "outputs": [
    {
     "data": {
      "text/plain": [
       "Document(metadata={'source': 'https://www.timesnownews.com/auto/electric-vehicles/teslas-european-ev-sales-plummet-lagging-behind-rivals-article-119647784'}, page_content=\"Times Now\\n\\nTimes Now Navbharat\\n\\nZoom\\n\\nET Now\\n\\nET Now Swadesh\\n\\nTimes Drive\\n\\nHealth and Me\\n\\nDigit\\n\\nMarathi\\n\\nTelugu\\n\\nTamil\\n\\nBengali\\n\\nKannada\\n\\nMalayalam\\n\\nUnilist\\n\\nLive tv\\n\\nPowered by\\n\\nTimes Drive\\n\\nTrending:\\n\\nBihar Board 10th Result\\n\\nCSK vs RCB 2025\\n\\nSarkari Results 2025\\n\\nJEE Main 2025 Admit Card\\n\\nToday IPL Match\\n\\nMS Dhoni\\n\\nSaif Ali Khan Attack\\n\\nIndian Tourists\\n\\nDelhi Woman Murder\\n\\nThailand Earthquake\\n\\nToday IPL Match\\n\\nHyderabad vs Lucknow\\n\\nnews\\n\\nauto\\n\\nelectric vehicles\\n\\nTesla's European EV Sales Plummet, Lagging Behind Rivals\\n\\nTesla EV sales in Europe have fallen in February behind legacy brand Volkswagen and the BMW group, as well as rivals from China, data by research platform JATO Dynamics showed on Monday.\\n\\nREUTERS\\n\\nREUTERS\\n\\nUpdated Mar 28, 2025, 15:56 IST\\n\\nTeslas EV car sales are declining globally prompting the company to offer attractive deals to customers\\n\\nTesla's European EV Sales Plummet, Lagging Behind Rivals\")"
      ]
     },
     "execution_count": 45,
     "metadata": {},
     "output_type": "execute_result"
    }
   ],
   "source": [
    "docs[0]"
   ]
  },
  {
   "cell_type": "code",
   "execution_count": 46,
   "id": "aa3ae499-9dcf-4ad8-9c59-ee24349b9a18",
   "metadata": {},
   "outputs": [],
   "source": [
    "from langchain_community.vectorstores import FAISS\n",
    "from langchain_community.embeddings import HuggingFaceEmbeddings\n",
    "\n",
    "# Use Hugging Face's SentenceTransformers for embeddings\n",
    "embeddings = HuggingFaceEmbeddings(model_name=\"sentence-transformers/all-MiniLM-L6-v2\")\n",
    "\n",
    "# Create FAISS vector index\n",
    "vectorindex = FAISS.from_documents(docs, embeddings)\n"
   ]
  },
  {
   "cell_type": "code",
   "execution_count": 47,
   "id": "10a2af57-5e12-48fc-b063-3450072d7e41",
   "metadata": {},
   "outputs": [],
   "source": [
    "file_path=\"vector_index.pkl\"\n",
    "with open(file_path,\"wb\") as f:\n",
    "    pickle.dump(vectorindex,f)"
   ]
  },
  {
   "cell_type": "code",
   "execution_count": 48,
   "id": "bdbff5cf-7474-48f7-b26d-882c8f7ddf24",
   "metadata": {},
   "outputs": [],
   "source": [
    "if os.path.exists(file_path):\n",
    "    with open(file_path, \"rb\") as f:\n",
    "        vectorIndex = pickle.load(f)"
   ]
  },
  {
   "cell_type": "code",
   "execution_count": 54,
   "id": "46f43459-b1b2-48ea-b7a8-861793b57a97",
   "metadata": {},
   "outputs": [
    {
     "data": {
      "text/plain": [
       "RetrievalQA(verbose=False, combine_documents_chain=StuffDocumentsChain(verbose=False, llm_chain=LLMChain(verbose=False, prompt=ChatPromptTemplate(input_variables=['context', 'question'], input_types={}, partial_variables={}, messages=[SystemMessagePromptTemplate(prompt=PromptTemplate(input_variables=['context'], input_types={}, partial_variables={}, template=\"Use the following pieces of context to answer the user's question. \\nIf you don't know the answer, just say that you don't know, don't try to make up an answer.\\n----------------\\n{context}\"), additional_kwargs={}), HumanMessagePromptTemplate(prompt=PromptTemplate(input_variables=['question'], input_types={}, partial_variables={}, template='{question}'), additional_kwargs={})]), llm=ChatMistralAI(client=<httpx.Client object at 0x00000223324D89D0>, async_client=<httpx.AsyncClient object at 0x00000223324D8FC0>, mistral_api_key=SecretStr('**********'), endpoint='https://api.mistral.ai/v1', model='mistral-medium', model_kwargs={}), output_parser=StrOutputParser(), llm_kwargs={}), document_prompt=PromptTemplate(input_variables=['page_content'], input_types={}, partial_variables={}, template='{page_content}'), document_variable_name='context'), retriever=VectorStoreRetriever(tags=['FAISS', 'HuggingFaceEmbeddings'], vectorstore=<langchain_community.vectorstores.faiss.FAISS object at 0x000002232E0BA140>, search_kwargs={}))"
      ]
     },
     "execution_count": 54,
     "metadata": {},
     "output_type": "execute_result"
    }
   ],
   "source": [
    "chain = RetrievalQA.from_chain_type(\n",
    "    llm=llm,\n",
    "    retriever=vectorIndex.as_retriever(),\n",
    "    chain_type=\"stuff\"  # \"stuff\" is the simplest chain type\n",
    ")\n",
    "chain"
   ]
  },
  {
   "cell_type": "code",
   "execution_count": 52,
   "id": "ea80d3e8-b6d5-4205-b656-ec4443f14abc",
   "metadata": {},
   "outputs": [],
   "source": [
    "#chain = RetrievalQAWitthSourcesChain.from_llm(llm = llm , retriever = vectorIndex.as_retriever())\n",
    "#chain"
   ]
  },
  {
   "cell_type": "code",
   "execution_count": 59,
   "id": "3ac9dc67-942c-4336-866e-0d4f9e8cbf69",
   "metadata": {},
   "outputs": [
    {
     "name": "stdout",
     "output_type": "stream",
     "text": [
      "\u001b[32;1m\u001b[1;3m[chain/start]\u001b[0m \u001b[1m[chain:RetrievalQA] Entering Chain run with input:\n",
      "\u001b[0m{\n",
      "  \"query\": \" BYD's and Polestar's BEV sales in the same markets were up respectively by how many percent?\"\n",
      "}\n",
      "\u001b[32;1m\u001b[1;3m[chain/start]\u001b[0m \u001b[1m[chain:RetrievalQA > chain:StuffDocumentsChain] Entering Chain run with input:\n",
      "\u001b[0m[inputs]\n",
      "\u001b[32;1m\u001b[1;3m[chain/start]\u001b[0m \u001b[1m[chain:RetrievalQA > chain:StuffDocumentsChain > chain:LLMChain] Entering Chain run with input:\n",
      "\u001b[0m{\n",
      "  \"question\": \" BYD's and Polestar's BEV sales in the same markets were up respectively by how many percent?\",\n",
      "  \"context\": \"BYD's and Polestar's BEV sales in the same markets were up respectively 94% and 84% to over 4,000 and over 2,000 cars. Xpeng sold over 1,000 cars and Leapmotor almost 900.\\n\\nBEV sales at Geely-owned Volvo and SAIC-owned MG, instead, dropped by 30% and 67% respectively, the data showed.\\n\\nTotal car sales in 25 European Union markets, the UK, Norway and Switzerland dropped by 3% to 0.97 million in February, while BEV registrations were up by 25%.\\n\\n(This story has been picked from a syndicate wire feed and remains unedited by Times Now)\\n\\nGet Latest News Live on Times Now along with Breaking News and Top Headlines from Electric Vehicles, Auto and around the world.\\n\\nLatest News\\n\\nBihar Board Result 2025 Class 10 When Where and How to Check BSEB Matric Result Online\\n\\neducation\\n\\nBihar Board Result 2025 Class 10: When, Where, and How to Check BSEB Matric Result Online\\n\\nVodafone Idea Hit as DoT Halts Spectrum Surrender Proposal\\n\\nbusiness economy\\n\\n\\\"Brands like Tesla, which have a relatively limited model lineup, are particularly vulnerable to registration declines when undertaking a model changeover,\\\" Munoz said.\\n\\nTesla's battery-electric vehicle (BEV) registrations in 25 European Union markets, the UK, Norway and Switzerland fell on average by 44% from the same month of 2024, to under 16,000 cars sold in February. Its market share in the month fell to 9.6%, the lowest February reading in the last five years.\\n\\nBy comparison, Volkswagen's BEV sales were up 180% to under 20,000 cars, while the BMW brand and BMW-owned Mini, combined, sold almost 19,000 BEVs in February, the data showed.\\n\\nChinese-owned brands, combined, also sold more electric cars than Tesla, JATO Dynamics said.\\n\\nBYD's and Polestar's BEV sales in the same markets were up respectively 94% and 84% to over 4,000 and over 2,000 cars. Xpeng sold over 1,000 cars and Leapmotor almost 900.\\n\\nTimes Now\\n\\nTimes Now Navbharat\\n\\nZoom\\n\\nET Now\\n\\nET Now Swadesh\\n\\nTimes Drive\\n\\nHealth and Me\\n\\nDigit\\n\\nMarathi\\n\\nTelugu\\n\\nTamil\\n\\nBengali\\n\\nKannada\\n\\nMalayalam\\n\\nUnilist\\n\\nLive tv\\n\\nPowered by\\n\\nTimes Drive\\n\\nTrending:\\n\\nBihar Board 10th Result\\n\\nCSK vs RCB 2025\\n\\nSarkari Results 2025\\n\\nJEE Main 2025 Admit Card\\n\\nToday IPL Match\\n\\nMS Dhoni\\n\\nSaif Ali Khan Attack\\n\\nIndian Tourists\\n\\nDelhi Woman Murder\\n\\nThailand Earthquake\\n\\nToday IPL Match\\n\\nHyderabad vs Lucknow\\n\\nnews\\n\\nauto\\n\\nelectric vehicles\\n\\nTesla's European EV Sales Plummet, Lagging Behind Rivals\\n\\nTesla EV sales in Europe have fallen in February behind legacy brand Volkswagen and the BMW group, as well as rivals from China, data by research platform JATO Dynamics showed on Monday.\\n\\nREUTERS\\n\\nREUTERS\\n\\nUpdated Mar 28, 2025, 15:56 IST\\n\\nTeslas EV car sales are declining globally prompting the company to offer attractive deals to customers\\n\\nTesla's European EV Sales Plummet, Lagging Behind Rivals\\n\\nUpdated Mar 28, 2025, 15:56 IST\\n\\nTeslas EV car sales are declining globally prompting the company to offer attractive deals to customers\\n\\nTesla's European EV Sales Plummet, Lagging Behind Rivals\\n\\nTesla EV sales in Europe have fallen in February behind legacy brand Volkswagen and the BMW group, as well as rivals from China, data by research platform JATO Dynamics showed on Monday.\\n\\nElon Musk's all-electric brand is facing a loyalty test in Europe after the close ally of U.S. President Donald Trump openly supported far-right parties in the continent, including with at least two dozen posts on his X platform promoting Germany's Alternative fur Deutschland.\\n\\nMusk's role in politics, rising competition in the EV market and the phasing out of the existing version of its best-selling vehicle, the Model Y, have all impacted sales, Felipe Munoz, Global Analyst at JATO Dynamics, said in a report.\"\n",
      "}\n",
      "\u001b[32;1m\u001b[1;3m[llm/start]\u001b[0m \u001b[1m[chain:RetrievalQA > chain:StuffDocumentsChain > chain:LLMChain > llm:ChatMistralAI] Entering LLM run with input:\n",
      "\u001b[0m{\n",
      "  \"prompts\": [\n",
      "    \"System: Use the following pieces of context to answer the user's question. \\nIf you don't know the answer, just say that you don't know, don't try to make up an answer.\\n----------------\\nBYD's and Polestar's BEV sales in the same markets were up respectively 94% and 84% to over 4,000 and over 2,000 cars. Xpeng sold over 1,000 cars and Leapmotor almost 900.\\n\\nBEV sales at Geely-owned Volvo and SAIC-owned MG, instead, dropped by 30% and 67% respectively, the data showed.\\n\\nTotal car sales in 25 European Union markets, the UK, Norway and Switzerland dropped by 3% to 0.97 million in February, while BEV registrations were up by 25%.\\n\\n(This story has been picked from a syndicate wire feed and remains unedited by Times Now)\\n\\nGet Latest News Live on Times Now along with Breaking News and Top Headlines from Electric Vehicles, Auto and around the world.\\n\\nLatest News\\n\\nBihar Board Result 2025 Class 10 When Where and How to Check BSEB Matric Result Online\\n\\neducation\\n\\nBihar Board Result 2025 Class 10: When, Where, and How to Check BSEB Matric Result Online\\n\\nVodafone Idea Hit as DoT Halts Spectrum Surrender Proposal\\n\\nbusiness economy\\n\\n\\\"Brands like Tesla, which have a relatively limited model lineup, are particularly vulnerable to registration declines when undertaking a model changeover,\\\" Munoz said.\\n\\nTesla's battery-electric vehicle (BEV) registrations in 25 European Union markets, the UK, Norway and Switzerland fell on average by 44% from the same month of 2024, to under 16,000 cars sold in February. Its market share in the month fell to 9.6%, the lowest February reading in the last five years.\\n\\nBy comparison, Volkswagen's BEV sales were up 180% to under 20,000 cars, while the BMW brand and BMW-owned Mini, combined, sold almost 19,000 BEVs in February, the data showed.\\n\\nChinese-owned brands, combined, also sold more electric cars than Tesla, JATO Dynamics said.\\n\\nBYD's and Polestar's BEV sales in the same markets were up respectively 94% and 84% to over 4,000 and over 2,000 cars. Xpeng sold over 1,000 cars and Leapmotor almost 900.\\n\\nTimes Now\\n\\nTimes Now Navbharat\\n\\nZoom\\n\\nET Now\\n\\nET Now Swadesh\\n\\nTimes Drive\\n\\nHealth and Me\\n\\nDigit\\n\\nMarathi\\n\\nTelugu\\n\\nTamil\\n\\nBengali\\n\\nKannada\\n\\nMalayalam\\n\\nUnilist\\n\\nLive tv\\n\\nPowered by\\n\\nTimes Drive\\n\\nTrending:\\n\\nBihar Board 10th Result\\n\\nCSK vs RCB 2025\\n\\nSarkari Results 2025\\n\\nJEE Main 2025 Admit Card\\n\\nToday IPL Match\\n\\nMS Dhoni\\n\\nSaif Ali Khan Attack\\n\\nIndian Tourists\\n\\nDelhi Woman Murder\\n\\nThailand Earthquake\\n\\nToday IPL Match\\n\\nHyderabad vs Lucknow\\n\\nnews\\n\\nauto\\n\\nelectric vehicles\\n\\nTesla's European EV Sales Plummet, Lagging Behind Rivals\\n\\nTesla EV sales in Europe have fallen in February behind legacy brand Volkswagen and the BMW group, as well as rivals from China, data by research platform JATO Dynamics showed on Monday.\\n\\nREUTERS\\n\\nREUTERS\\n\\nUpdated Mar 28, 2025, 15:56 IST\\n\\nTeslas EV car sales are declining globally prompting the company to offer attractive deals to customers\\n\\nTesla's European EV Sales Plummet, Lagging Behind Rivals\\n\\nUpdated Mar 28, 2025, 15:56 IST\\n\\nTeslas EV car sales are declining globally prompting the company to offer attractive deals to customers\\n\\nTesla's European EV Sales Plummet, Lagging Behind Rivals\\n\\nTesla EV sales in Europe have fallen in February behind legacy brand Volkswagen and the BMW group, as well as rivals from China, data by research platform JATO Dynamics showed on Monday.\\n\\nElon Musk's all-electric brand is facing a loyalty test in Europe after the close ally of U.S. President Donald Trump openly supported far-right parties in the continent, including with at least two dozen posts on his X platform promoting Germany's Alternative fur Deutschland.\\n\\nMusk's role in politics, rising competition in the EV market and the phasing out of the existing version of its best-selling vehicle, the Model Y, have all impacted sales, Felipe Munoz, Global Analyst at JATO Dynamics, said in a report.\\nHuman:  BYD's and Polestar's BEV sales in the same markets were up respectively by how many percent?\"\n",
      "  ]\n",
      "}\n",
      "\u001b[36;1m\u001b[1;3m[llm/end]\u001b[0m \u001b[1m[chain:RetrievalQA > chain:StuffDocumentsChain > chain:LLMChain > llm:ChatMistralAI] [2.02s] Exiting LLM run with output:\n",
      "\u001b[0m{\n",
      "  \"generations\": [\n",
      "    [\n",
      "      {\n",
      "        \"text\": \"BYD's battery-electric vehicle (BEV) sales in the same markets were up by 94%, while Polestar's BEV sales were up by 84%.\",\n",
      "        \"generation_info\": {\n",
      "          \"finish_reason\": \"stop\"\n",
      "        },\n",
      "        \"type\": \"ChatGeneration\",\n",
      "        \"message\": {\n",
      "          \"lc\": 1,\n",
      "          \"type\": \"constructor\",\n",
      "          \"id\": [\n",
      "            \"langchain\",\n",
      "            \"schema\",\n",
      "            \"messages\",\n",
      "            \"AIMessage\"\n",
      "          ],\n",
      "          \"kwargs\": {\n",
      "            \"content\": \"BYD's battery-electric vehicle (BEV) sales in the same markets were up by 94%, while Polestar's BEV sales were up by 84%.\",\n",
      "            \"response_metadata\": {\n",
      "              \"token_usage\": {\n",
      "                \"prompt_tokens\": 1288,\n",
      "                \"total_tokens\": 1331,\n",
      "                \"completion_tokens\": 43\n",
      "              },\n",
      "              \"model_name\": \"mistral-medium\",\n",
      "              \"model\": \"mistral-medium\",\n",
      "              \"finish_reason\": \"stop\"\n",
      "            },\n",
      "            \"type\": \"ai\",\n",
      "            \"id\": \"run-5c654f9f-b4ad-4ef8-a8da-729bbc323953-0\",\n",
      "            \"usage_metadata\": {\n",
      "              \"input_tokens\": 1288,\n",
      "              \"output_tokens\": 43,\n",
      "              \"total_tokens\": 1331\n",
      "            },\n",
      "            \"tool_calls\": [],\n",
      "            \"invalid_tool_calls\": []\n",
      "          }\n",
      "        }\n",
      "      }\n",
      "    ]\n",
      "  ],\n",
      "  \"llm_output\": {\n",
      "    \"token_usage\": {\n",
      "      \"prompt_tokens\": 1288,\n",
      "      \"total_tokens\": 1331,\n",
      "      \"completion_tokens\": 43\n",
      "    },\n",
      "    \"model_name\": \"mistral-medium\",\n",
      "    \"model\": \"mistral-medium\"\n",
      "  },\n",
      "  \"run\": null,\n",
      "  \"type\": \"LLMResult\"\n",
      "}\n",
      "\u001b[36;1m\u001b[1;3m[chain/end]\u001b[0m \u001b[1m[chain:RetrievalQA > chain:StuffDocumentsChain > chain:LLMChain] [2.02s] Exiting Chain run with output:\n",
      "\u001b[0m{\n",
      "  \"text\": \"BYD's battery-electric vehicle (BEV) sales in the same markets were up by 94%, while Polestar's BEV sales were up by 84%.\"\n",
      "}\n",
      "\u001b[36;1m\u001b[1;3m[chain/end]\u001b[0m \u001b[1m[chain:RetrievalQA > chain:StuffDocumentsChain] [2.02s] Exiting Chain run with output:\n",
      "\u001b[0m{\n",
      "  \"output_text\": \"BYD's battery-electric vehicle (BEV) sales in the same markets were up by 94%, while Polestar's BEV sales were up by 84%.\"\n",
      "}\n",
      "\u001b[36;1m\u001b[1;3m[chain/end]\u001b[0m \u001b[1m[chain:RetrievalQA] [2.06s] Exiting Chain run with output:\n",
      "\u001b[0m{\n",
      "  \"result\": \"BYD's battery-electric vehicle (BEV) sales in the same markets were up by 94%, while Polestar's BEV sales were up by 84%.\"\n",
      "}\n"
     ]
    },
    {
     "data": {
      "text/plain": [
       "{'result': \"BYD's battery-electric vehicle (BEV) sales in the same markets were up by 94%, while Polestar's BEV sales were up by 84%.\"}"
      ]
     },
     "execution_count": 59,
     "metadata": {},
     "output_type": "execute_result"
    }
   ],
   "source": [
    "query = \" BYD's and Polestar's BEV sales in the same markets were up respectively by how many percent?\"\n",
    "langchain.debug=True\n",
    "chain({\"query\": query}, return_only_outputs=True)\n"
   ]
  },
  {
   "cell_type": "code",
   "execution_count": null,
   "id": "ac8348e3-6f59-4ad1-824a-54da6960b5d4",
   "metadata": {},
   "outputs": [],
   "source": []
  }
 ],
 "metadata": {
  "kernelspec": {
   "display_name": "Python 3 (ipykernel)",
   "language": "python",
   "name": "python3"
  },
  "language_info": {
   "codemirror_mode": {
    "name": "ipython",
    "version": 3
   },
   "file_extension": ".py",
   "mimetype": "text/x-python",
   "name": "python",
   "nbconvert_exporter": "python",
   "pygments_lexer": "ipython3",
   "version": "3.13.2"
  }
 },
 "nbformat": 4,
 "nbformat_minor": 5
}
